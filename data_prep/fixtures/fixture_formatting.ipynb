{
 "cells": [
  {
   "cell_type": "markdown",
   "source": [],
   "metadata": {
    "collapsed": false
   },
   "id": "71bf4567c5153c74"
  },
  {
   "cell_type": "code",
   "execution_count": 7,
   "id": "initial_id",
   "metadata": {
    "collapsed": true,
    "ExecuteTime": {
     "end_time": "2024-09-08T07:39:30.394886Z",
     "start_time": "2024-09-08T07:39:30.392589Z"
    }
   },
   "outputs": [],
   "source": [
    "import pandas as pd\n",
    "from anvil.block import Block\n",
    "\n",
    "import json\n",
    "from pathlib import Path\n",
    "from typing import Dict, List"
   ]
  },
  {
   "cell_type": "code",
   "outputs": [],
   "source": [
    "jsons_path = Path('/Users/ben/Library/Application Support/minecraft/versions/1.21.1/1.21.1/assets/minecraft/blockstates')\n",
    "all_blocks_path = Path('/Users/ben/Projects/MinecraftDiffusion/fixtures/all_blocks.tsv')"
   ],
   "metadata": {
    "collapsed": false,
    "ExecuteTime": {
     "end_time": "2024-09-08T07:39:30.398334Z",
     "start_time": "2024-09-08T07:39:30.396159Z"
    }
   },
   "id": "bc18259ec6b5eaaa",
   "execution_count": 8
  },
  {
   "cell_type": "code",
   "outputs": [
    {
     "name": "stdout",
     "output_type": "stream",
     "text": [
      "Discarding block/glow_item_frame\n",
      "Discarding block/glow_item_frame_map\n",
      "Discarding block/item_frame\n",
      "Discarding block/item_frame_map\n"
     ]
    }
   ],
   "source": [
    "from world_parsing.block_id_mapping import *\n",
    "blocks = parse_json_files(jsons_path) \n",
    "reps = set(map(block_to_rep, blocks))"
   ],
   "metadata": {
    "collapsed": false,
    "ExecuteTime": {
     "end_time": "2024-09-08T07:39:30.569922Z",
     "start_time": "2024-09-08T07:39:30.400577Z"
    }
   },
   "id": "7768bdf8867acc9d",
   "execution_count": 9
  },
  {
   "cell_type": "markdown",
   "source": [
    "# Tuning\n",
    "looks like we have to add water at level 0 for some reason."
   ],
   "metadata": {
    "collapsed": false
   },
   "id": "f153f0b8de2fe40d"
  },
  {
   "cell_type": "markdown",
   "source": [],
   "metadata": {
    "collapsed": false
   },
   "id": "ee848f5c471627f6"
  },
  {
   "cell_type": "code",
   "outputs": [],
   "source": [
    "with open(all_blocks_path, 'w')as out:\n",
    "    for rep in reps:\n",
    "        out.write(rep+ '\\n')"
   ],
   "metadata": {
    "collapsed": false,
    "ExecuteTime": {
     "end_time": "2024-09-08T07:39:30.575634Z",
     "start_time": "2024-09-08T07:39:30.570852Z"
    }
   },
   "id": "928f0d364e30d610",
   "execution_count": 10
  },
  {
   "cell_type": "code",
   "outputs": [
    {
     "data": {
      "text/plain": "5393"
     },
     "execution_count": 11,
     "metadata": {},
     "output_type": "execute_result"
    }
   ],
   "source": [
    "len(reps)"
   ],
   "metadata": {
    "collapsed": false,
    "ExecuteTime": {
     "end_time": "2024-09-08T07:39:30.579109Z",
     "start_time": "2024-09-08T07:39:30.576266Z"
    }
   },
   "id": "7975dbec1e077ec4",
   "execution_count": 11
  },
  {
   "cell_type": "code",
   "outputs": [],
   "source": [],
   "metadata": {
    "collapsed": false,
    "ExecuteTime": {
     "end_time": "2024-09-08T07:39:30.581076Z",
     "start_time": "2024-09-08T07:39:30.580005Z"
    }
   },
   "id": "d0453d36103ff6ab",
   "execution_count": 11
  }
 ],
 "metadata": {
  "kernelspec": {
   "display_name": "Python 3",
   "language": "python",
   "name": "python3"
  },
  "language_info": {
   "codemirror_mode": {
    "name": "ipython",
    "version": 2
   },
   "file_extension": ".py",
   "mimetype": "text/x-python",
   "name": "python",
   "nbconvert_exporter": "python",
   "pygments_lexer": "ipython2",
   "version": "2.7.6"
  }
 },
 "nbformat": 4,
 "nbformat_minor": 5
}
