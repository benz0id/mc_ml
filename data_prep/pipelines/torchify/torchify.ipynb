{
 "cells": [
  {
   "cell_type": "markdown",
   "source": [
    "Convert worlds into compressed pytorch files. \n",
    "\n",
    "Simply place your worlds into worlds/minecraft and run the below code.\n",
    "\n",
    "Compressed worlds with chunks stored as tensors will then appear in the worlds/compressed."
   ],
   "metadata": {
    "collapsed": false
   },
   "id": "38d0c3a9443b57e8"
  },
  {
   "cell_type": "code",
   "execution_count": 1,
   "id": "initial_id",
   "metadata": {
    "collapsed": true,
    "ExecuteTime": {
     "end_time": "2024-09-10T07:36:37.921632Z",
     "start_time": "2024-09-10T07:36:37.213503Z"
    }
   },
   "outputs": [],
   "source": [
    "import os\n",
    "from pathlib import Path\n",
    "\n",
    "from data_prep.world_parsing.block_id_mapping import BlockIDMapper\n",
    "from data_prep.world_parsing.convert_to_tensors import TensorConverter\n",
    "from data_prep.world_parsing.torch_world import compress_world\n",
    "from data_prep.world_parsing.utils import get_dir_size"
   ]
  },
  {
   "cell_type": "code",
   "outputs": [],
   "source": [
    "NUM_CORES = 8"
   ],
   "metadata": {
    "collapsed": false,
    "ExecuteTime": {
     "end_time": "2024-09-10T07:36:43.683761Z",
     "start_time": "2024-09-10T07:36:43.681362Z"
    }
   },
   "id": "507aabc8d4f94b7b",
   "execution_count": 2
  },
  {
   "cell_type": "code",
   "outputs": [],
   "source": [
    "dpp = Path('/Users/ben/Projects/MinecraftDiffusion/code/data_prep')\n",
    "mapper = BlockIDMapper(Path(dpp / \"fixtures/all_blocks.tsv\"))\n",
    "tensor_converter = TensorConverter(mapper, num_cores=NUM_CORES)"
   ],
   "metadata": {
    "collapsed": false,
    "ExecuteTime": {
     "end_time": "2024-09-10T07:36:45.689023Z",
     "start_time": "2024-09-10T07:36:45.667884Z"
    }
   },
   "id": "86f8f0b63550ed4d",
   "execution_count": 3
  },
  {
   "cell_type": "code",
   "outputs": [],
   "source": [
    "worlds_dir      = dpp / 'pipelines/torchify/worlds'\n",
    "raw_dir         = worlds_dir / 'minecraft'\n",
    "tensor_dir      = worlds_dir / 'pytorch'\n",
    "compressed_dir  = worlds_dir / 'compressed'"
   ],
   "metadata": {
    "collapsed": false,
    "ExecuteTime": {
     "end_time": "2024-09-10T07:36:46.214248Z",
     "start_time": "2024-09-10T07:36:46.211983Z"
    }
   },
   "id": "581848d92184115c",
   "execution_count": 4
  },
  {
   "cell_type": "code",
   "outputs": [
    {
     "name": "stdout",
     "output_type": "stream",
     "text": [
      " === Converting ===\n",
      "massive_plains                  703.33 MB\n"
     ]
    }
   ],
   "source": [
    "raw_worlds = set(os.listdir(raw_dir))\n",
    "# Trim '.tar.gz' extension.\n",
    "compressed_worlds = set([p[:-7] for p in os.listdir(compressed_dir)])\n",
    "to_convert = raw_worlds - compressed_worlds\n",
    "\n",
    "if '.DS_Store' in to_convert:\n",
    "    to_convert.discard('.DS_Store')\n",
    "\n",
    "print(' === Converting ===')\n",
    "for filename in to_convert:\n",
    "    size_str = get_dir_size(raw_dir / filename)\n",
    "    print(f'{filename:30} {size_str:>10}')"
   ],
   "metadata": {
    "collapsed": false,
    "ExecuteTime": {
     "end_time": "2024-09-10T07:36:46.977059Z",
     "start_time": "2024-09-10T07:36:46.971610Z"
    }
   },
   "id": "9640487423f459dd",
   "execution_count": 5
  },
  {
   "cell_type": "code",
   "outputs": [
    {
     "name": "stdout",
     "output_type": "stream",
     "text": [
      "Now converting massive_plains\n"
     ]
    },
    {
     "name": "stderr",
     "output_type": "stream",
     "text": [
      "100%|██████████| 81/81 [01:00<00:00,  1.35it/s]\n"
     ]
    }
   ],
   "source": [
    "for world in to_convert:\n",
    "    print(f'Now converting {world}')\n",
    "    world_path = raw_dir / world\n",
    "    tensor_world_path = tensor_dir / world\n",
    "    tensor_world_path.mkdir(exist_ok=True)\n",
    "    tensor_converter.convert_world_to_torch(world_path, tensor_world_path, overwrite=False, version='vectorized')\n",
    "    compress_world(tensor_world_path, compressed_dir)\n",
    "    os.system(f'rm -rf {str(tensor_world_path)}')"
   ],
   "metadata": {
    "collapsed": false,
    "ExecuteTime": {
     "end_time": "2024-09-10T07:40:25.932434Z",
     "start_time": "2024-09-10T07:36:53.703259Z"
    }
   },
   "id": "70792fde48a4816b",
   "execution_count": 6
  },
  {
   "cell_type": "code",
   "outputs": [],
   "source": [],
   "metadata": {
    "collapsed": false
   },
   "id": "f6a42198406c1c61"
  }
 ],
 "metadata": {
  "kernelspec": {
   "display_name": "Python 3",
   "language": "python",
   "name": "python3"
  },
  "language_info": {
   "codemirror_mode": {
    "name": "ipython",
    "version": 2
   },
   "file_extension": ".py",
   "mimetype": "text/x-python",
   "name": "python",
   "nbconvert_exporter": "python",
   "pygments_lexer": "ipython2",
   "version": "2.7.6"
  }
 },
 "nbformat": 4,
 "nbformat_minor": 5
}
